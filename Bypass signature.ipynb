{
 "cells": [
  {
   "cell_type": "code",
   "execution_count": null,
   "metadata": {},
   "outputs": [],
   "source": [
    "import subprocess\n",
    "from pathlib import Path\n",
    "import numpy as np\n",
    "import matplotlib.pylab as plt\n",
    "from matplotlib.ticker import (MultipleLocator, FormatStrFormatter,\n",
    "                               AutoMinorLocator)\n",
    "from tqdm.notebook import trange\n",
    "\n",
    "\n",
    "%matplotlib notebook\n",
    "\n",
    "\n",
    "PATH_CW = Path('/opt/ChipWhisperer-git/')\n",
    "\n",
    "import chipwhisperer as cw\n",
    "try:\n",
    "    if not scope.connectStatus:\n",
    "        scope.con()\n",
    "except NameError:\n",
    "    scope = cw.scope()\n",
    "   \n",
    "try:\n",
    "    target = cw.target(scope)\n",
    "except IOError:\n",
    "    print(\"INFO: Caught exception on reconnecting to target - attempting to reconnect to scope first.\")\n",
    "    print(\"INFO: This is a work-around when USB has died without Python knowing. Ignore errors above this line.\")\n",
    "    scope = cw.scope()\n",
    "    target = cw.target(scope)\n",
    "\n",
    "print(\"INFO: Found ChipWhisperer😍\")"
   ]
  },
  {
   "cell_type": "code",
   "execution_count": null,
   "metadata": {},
   "outputs": [],
   "source": [
    "SCOPETYPE = 'OPENADC'\n",
    "PLATFORM = 'CWLITEXMEGA'"
   ]
  },
  {
   "cell_type": "code",
   "execution_count": null,
   "metadata": {},
   "outputs": [],
   "source": [
    "prog = cw.programmers.XMEGAProgrammer"
   ]
  },
  {
   "cell_type": "code",
   "execution_count": null,
   "metadata": {},
   "outputs": [],
   "source": [
    "path_fw = PATH_CW / \"hardware/victims/firmware/simpleserial-signature/simpleserial-signature-{}.hex\".format(PLATFORM)"
   ]
  },
  {
   "cell_type": "code",
   "execution_count": null,
   "metadata": {},
   "outputs": [],
   "source": [
    "import time\n",
    "time.sleep(0.05)\n",
    "scope.default_setup()\n",
    "def reset_target(scope):\n",
    "    scope.io.pdic = 'low'\n",
    "    time.sleep(0.1)\n",
    "    scope.io.pdic = 'high_z' #XMEGA doesn't like pdic driven high\n",
    "    time.sleep(0.1) #xmega needs more startup time\n",
    "    target.flush()\n",
    "    \n",
    "scope"
   ]
  },
  {
   "cell_type": "code",
   "execution_count": null,
   "metadata": {},
   "outputs": [],
   "source": [
    "def firmware_compile(options=\"\"):\n",
    "    p = subprocess.run(\n",
    "        \"cp -rv simpleserial-signature {path_cw}/hardware/victims/firmware/ && cd {path_cw}/hardware/victims/firmware/simpleserial-signature && make PLATFORM={platform} {options} CRYPTO_TARGET=AVRCRYPTOLIB CRYPTO_OPTIONS=HMACSHA256\".format(\n",
    "            platform=PLATFORM, path_cw=PATH_CW, options=options,\n",
    "        ),\n",
    "        capture_output=True,\n",
    "        shell=True)\n",
    "    print(p.stdout.decode('utf-8')[-500:])\n",
    "    print(p.stderr.decode('utf-8'))\n",
    "    p.check_returncode()"
   ]
  },
  {
   "cell_type": "code",
   "execution_count": null,
   "metadata": {},
   "outputs": [],
   "source": [
    "def upload():\n",
    "    cw.program_target(\n",
    "        scope,\n",
    "        prog,\n",
    "        str(path_fw))"
   ]
  },
  {
   "cell_type": "code",
   "execution_count": null,
   "metadata": {},
   "outputs": [],
   "source": [
    "def capture_trace(scope):\n",
    "    scope.arm()\n",
    "    reset_target(scope)\n",
    "    print(scope.capture())\n",
    "    return scope.get_last_trace()"
   ]
  },
  {
   "cell_type": "code",
   "execution_count": null,
   "metadata": {},
   "outputs": [],
   "source": [
    "def normalize_trace(trace):\n",
    "    \"\"\"The values coming from the ADC must be inverted\"\"\"\n",
    "    return -trace"
   ]
  },
  {
   "cell_type": "code",
   "execution_count": null,
   "metadata": {},
   "outputs": [],
   "source": [
    "def target_communicate(inp, timeout=0.1):\n",
    "    \"\"\"input/output, take in mind that is all asynchronous so it's tricky to wait\n",
    "    for the output\"\"\"\n",
    "    target.write(f'{inp}\\n')\n",
    "    while not target.in_waiting():\n",
    "        pass\n",
    "    while n := target.in_waiting():\n",
    "        print(target.read(n), end='')\n",
    "    print()"
   ]
  },
  {
   "cell_type": "code",
   "execution_count": null,
   "metadata": {},
   "outputs": [],
   "source": [
    "def firmware_build(count):\n",
    "    contents = [_ for _ in range(count)]\n",
    "    return \"\".join([\"{:02x}\".format(_) for _ in contents]), bytearray(contents)"
   ]
  },
  {
   "cell_type": "code",
   "execution_count": null,
   "metadata": {},
   "outputs": [],
   "source": [
    "firmware_compile()\n",
    "upload()\n",
    "reset_target(scope)"
   ]
  },
  {
   "cell_type": "code",
   "execution_count": null,
   "metadata": {},
   "outputs": [],
   "source": [
    "example = '000102030405060708090a0b0c0d0e0f'\n",
    "raw_hex_firmware, raw_firmware = firmware_build(64)\n",
    "print(len(raw_hex_firmware), raw_firmware)\n",
    "\n",
    "print(\"version: \", end=\"\")\n",
    "target_communicate('v', timeout=0)\n",
    "\n",
    "print(\"HMAC-SHA256: \", end=\"\")\n",
    "target_communicate(f's{raw_hex_firmware}', timeout=0)\n",
    "\n",
    "print(\"upload: \", end=\"\")\n",
    "target_communicate(f'u{raw_hex_firmware}', timeout=0)\n",
    "\n",
    "print(\"upload wrong: \", end=\"\")\n",
    "target_communicate(f'u{generate_random_firmware(64)[1]}')"
   ]
  },
  {
   "cell_type": "code",
   "execution_count": null,
   "metadata": {},
   "outputs": [],
   "source": [
    "import hashlib\n",
    "import hmac\n",
    "hashlib.algorithms_available\n",
    "\n",
    "def calculate_signature(inp):\n",
    "    key = bytearray([\n",
    "        0x00, 0x11, 0x22, 0x33, 0x44, 0x55, 0x66, 0x77,\n",
    "        0x88, 0x99, 0xAA, 0xBB, 0xCC, 0xDD, 0xEE, 0xFF,\n",
    "        0x01, 0x23, 0x45, 0x67, 0x89, 0xAB, 0xCD, 0xEF, \n",
    "        0x00, 0x11, 0x22, 0x33, 0x44, 0x55, 0x66, 0x77,\n",
    "        0x88, 0x99, 0xAA, 0xBB, 0xCC, 0xDD, 0xEE, 0xFF, \n",
    "        0x01, 0x23, 0x45, 0x67, 0x89, 0xAB, 0xCD, 0xEF,\n",
    "        0x00, 0x11, 0x22, 0x33, 0x44, 0x55, 0x66, 0x77, \n",
    "        0x88, 0x99, 0xAA, 0xBB, 0xCC, 0xDD, 0xEE, 0xFF\n",
    "    ])\n",
    "    return hmac.digest(key, inp, 'sha256')"
   ]
  },
  {
   "cell_type": "code",
   "execution_count": null,
   "metadata": {},
   "outputs": [],
   "source": [
    "def extract_signature(msg):\n",
    "    if not msg.startswith(\"s\"):\n",
    "        raise ValueError(\"we are expecting 's' at the start\")\n",
    "        \n",
    "    signature = msg[1:]\n",
    "    return bytes.fromhex(signature)"
   ]
  },
  {
   "cell_type": "code",
   "execution_count": null,
   "metadata": {},
   "outputs": [],
   "source": [
    "def target_readsignature(inp):\n",
    "    \"\"\"input/output, take in mind that is all asynchronous so it's tricky to wait\n",
    "    for the output\"\"\"\n",
    "    output = \"\"\n",
    "\n",
    "    target.write(f's{inp}\\n')\n",
    "\n",
    "    while not target.in_waiting():\n",
    "        pass\n",
    "    while n := target.in_waiting():\n",
    "        output += target.read(n)\n",
    "\n",
    "    *ret, _ = output.split(\"\\n\")\n",
    "    \n",
    "    if ret[1] != 'z00':\n",
    "        raise ValueError(f\"unexpected result -> {output}\")\n",
    "        \n",
    "    return extract_signature(ret[0])"
   ]
  },
  {
   "cell_type": "code",
   "execution_count": null,
   "metadata": {},
   "outputs": [],
   "source": [
    "assert calculate_signature(raw_firmware) == target_readsignature(raw_hex_firmware)"
   ]
  },
  {
   "cell_type": "code",
   "execution_count": null,
   "metadata": {},
   "outputs": [],
   "source": [
    "assert calculate_signature(raw_firmware) == target_readsignature(generate_random_firmware(64)[1])"
   ]
  },
  {
   "cell_type": "code",
   "execution_count": null,
   "metadata": {},
   "outputs": [],
   "source": [
    "reset_target(scope)"
   ]
  },
  {
   "cell_type": "code",
   "execution_count": null,
   "metadata": {},
   "outputs": [],
   "source": [
    "def generate_random_firmware(size):\n",
    "    import random\n",
    "    \n",
    "    contents = [random.randint(0, 255) for _ in range(size)]\n",
    "\n",
    "    return bytes(contents), ''.join(['{:02x}'.format(_) for _ in contents])"
   ]
  },
  {
   "cell_type": "code",
   "execution_count": null,
   "metadata": {},
   "outputs": [],
   "source": [
    "def target_upload(firmware):\n",
    "    \"\"\"Upload the firmware. Note that we are not going to read\n",
    "    since for the wrong checksum we have the board hanging\"\"\"\n",
    "    output = \"\"\n",
    "\n",
    "    target.write(f'u{firmware}\\n')\n"
   ]
  },
  {
   "cell_type": "markdown",
   "metadata": {},
   "source": [
    "check it works"
   ]
  },
  {
   "cell_type": "code",
   "execution_count": null,
   "metadata": {},
   "outputs": [],
   "source": [
    "target_upload(generate_random_firmware(64)[1])"
   ]
  },
  {
   "cell_type": "code",
   "execution_count": null,
   "metadata": {},
   "outputs": [],
   "source": [
    "target_upload(raw_hex_firmware)"
   ]
  },
  {
   "cell_type": "code",
   "execution_count": null,
   "metadata": {},
   "outputs": [],
   "source": [
    "from tqdm.notebook import trange\n",
    "import numpy as np\n",
    "import time\n",
    "\n",
    "\n",
    "traces = []\n",
    "signatures = []\n",
    "scope.adc.samples = 10000\n",
    "scope.adc.offset = 50000\n",
    "N = 100\n",
    "\n",
    "for i in trange(N, desc='Capturing traces'):\n",
    "    reset_target(scope)\n",
    "    scope.arm()\n",
    "    \n",
    "    firmware_raw, firmware_hex = generate_random_firmware(64)\n",
    "    signature = calculate_signature(firmware_raw)\n",
    "    target_upload(firmware_hex)\n",
    "    \n",
    "    ret = scope.capture()\n",
    "    if ret:\n",
    "        print(\"Target timed out!\")\n",
    "        continue\n",
    "    \n",
    "    traces.append(scope.get_last_trace())\n",
    "    signatures.append(signature)\n",
    "    \n",
    "traces = np.array(traces)"
   ]
  },
  {
   "cell_type": "code",
   "execution_count": null,
   "metadata": {},
   "outputs": [],
   "source": [
    "import matplotlib.pylab as plt\n",
    "\n",
    "plt.figure()\n",
    "plt.plot(traces[0])\n",
    "plt.plot(traces[30])\n",
    "plt.show()"
   ]
  },
  {
   "cell_type": "code",
   "execution_count": null,
   "metadata": {},
   "outputs": [],
   "source": [
    "import numpy as np\n",
    "\n",
    "def mean(X):\n",
    "    return np.mean(X, axis=0)\n",
    "\n",
    "def std_dev(X, X_bar):\n",
    "    return np.sqrt(np.sum((X-X_bar)**2, axis=0))\n",
    "\n",
    "def cov(X, X_bar, Y, Y_bar):\n",
    "    return np.sum((X-X_bar)*(Y-Y_bar), axis=0)"
   ]
  },
  {
   "cell_type": "code",
   "execution_count": null,
   "metadata": {},
   "outputs": [],
   "source": [
    "HW = [0]*256\n",
    "\n",
    "def calc_hamming_weight(n):\n",
    "    return bin(n).count(\"1\")\n",
    "\n",
    "for idx in range(256):\n",
    "    HW[idx] = calc_hamming_weight(idx)"
   ]
  },
  {
   "cell_type": "code",
   "execution_count": null,
   "metadata": {},
   "outputs": [],
   "source": [
    "signatures[0]"
   ]
  },
  {
   "cell_type": "code",
   "execution_count": null,
   "metadata": {},
   "outputs": [],
   "source": [
    "len(signatures[0])"
   ]
  },
  {
   "cell_type": "code",
   "execution_count": null,
   "metadata": {},
   "outputs": [],
   "source": [
    "HW[0x0c]"
   ]
  },
  {
   "cell_type": "code",
   "execution_count": null,
   "metadata": {},
   "outputs": [],
   "source": [
    "def correlation_trace_signature(traces, signatures, ith, trace_avg, trace_stddev):\n",
    "    \"\"\"Correlation between trace values and hamming value\n",
    "    for the bnum-th byte and key \"key_guess\".\"\"\"\n",
    "    hws = np.array([[HW[signature[bnum]] for signature in signatures]]).transpose()\n",
    "    hws_avg = mean(hws)\n",
    "    \n",
    "    # print(f'{hws=} {hws_avg=}')\n",
    "    \n",
    "    assert len(np.isnan(hws)) != 0\n",
    "    assert len(np.isnan(hws_avg)) != 0\n",
    "    \n",
    "    hws_stddev = std_dev(hws, hws_avg)\n",
    "    assert len(np.isnan(hws_stddev)) != 0\n",
    "    \n",
    "    return cov(traces, trace_avg, hws, hws_avg)/trace_stddev/hws_stddev"
   ]
  },
  {
   "cell_type": "code",
   "execution_count": null,
   "metadata": {
    "scrolled": true
   },
   "outputs": [],
   "source": [
    "from tqdm.notebook import tnrange\n",
    "\n",
    "t_bar = np.sum(traces, axis=0)/len(traces)\n",
    "o_t = np.sqrt(np.sum((traces - t_bar)**2, axis=0))\n",
    "\n",
    "correlation_traces = list(range(32))\n",
    "\n",
    "print(f'{t_bar=} {o_t=}')\n",
    "\n",
    "for bnum in tnrange(0, 32):\n",
    "    cpaoutput = correlation_trace_signature(\n",
    "        traces,\n",
    "        signatures,\n",
    "        bnum,\n",
    "        t_bar,\n",
    "        o_t,\n",
    "    )\n",
    "    correlation_traces[bnum] = cpaoutput\n"
   ]
  },
  {
   "cell_type": "code",
   "execution_count": null,
   "metadata": {},
   "outputs": [],
   "source": [
    "print(correlation_traces)"
   ]
  },
  {
   "cell_type": "code",
   "execution_count": null,
   "metadata": {},
   "outputs": [],
   "source": [
    "np.argsort(np.abs(correlation_traces[0]))[::-1]"
   ]
  },
  {
   "cell_type": "code",
   "execution_count": null,
   "metadata": {},
   "outputs": [],
   "source": [
    "len(correlation_traces[0])"
   ]
  },
  {
   "cell_type": "code",
   "execution_count": null,
   "metadata": {},
   "outputs": [],
   "source": [
    "correlation_traces[0][2577:]"
   ]
  },
  {
   "cell_type": "code",
   "execution_count": null,
   "metadata": {},
   "outputs": [],
   "source": [
    "list(filter(lambda x: not np.isnan(x), correlation_traces[0]))"
   ]
  },
  {
   "cell_type": "code",
   "execution_count": null,
   "metadata": {},
   "outputs": [],
   "source": [
    "assert len(np.argwhere(np.isnan(o_t))) == 0"
   ]
  },
  {
   "cell_type": "code",
   "execution_count": null,
   "metadata": {},
   "outputs": [],
   "source": [
    "# check correlations\n",
    "for idx in range(32):\n",
    "    correlation = list(filter(lambda x: not np.isnan(x), correlation_traces[idx]))\n",
    "    idxs_max = np.argsort(np.abs(correlation))[::-1][0]\n",
    "    \n",
    "    print(f'{idx=} {correlation[idxs_max]=}')"
   ]
  },
  {
   "cell_type": "code",
   "execution_count": null,
   "metadata": {
    "scrolled": false
   },
   "outputs": [],
   "source": [
    "N = 32\n",
    "\n",
    "fig = plt.figure(figsize=(10, N))\n",
    "\n",
    "for idx in range(N):\n",
    "    correlation = list(filter(lambda x: not np.isnan(x), correlation_traces[idx]))\n",
    "    idxs_max = np.argsort(np.abs(correlation))[::-1]\n",
    "\n",
    "    ax = plt.subplot(N, 1, idx + 1)\n",
    "    ax.spines['top'].set_visible(False)\n",
    "    ax.spines['left'].set_visible(False)\n",
    "    ax.spines['right'].set_visible(False)\n",
    "    ax.set_ylabel('%dth input byte' % idx, rotation=0)\n",
    "    ax.set_yticklabels([])\n",
    "    ax.set_yticks([])\n",
    "    ax.set_xticklabels([])\n",
    "\n",
    "    plt.plot(correlation)\n",
    "\n",
    "    for idx_max in idxs_max[:1]:\n",
    "        plt.axvline(x=idx_max, label=\"%d\" % idx_max, color='r', ls=\":\")\n",
    "        \n",
    "    # plt.legend(bbox_to_anchor=(1.05, 1), loc='upper left', borderaxespad=0.)\n",
    "\n",
    "fig.tight_layout()\n",
    "plt.show()"
   ]
  },
  {
   "cell_type": "code",
   "execution_count": null,
   "metadata": {},
   "outputs": [],
   "source": []
  }
 ],
 "metadata": {
  "kernelspec": {
   "display_name": "Python 3",
   "language": "python",
   "name": "python3"
  },
  "language_info": {
   "codemirror_mode": {
    "name": "ipython",
    "version": 3
   },
   "file_extension": ".py",
   "mimetype": "text/x-python",
   "name": "python",
   "nbconvert_exporter": "python",
   "pygments_lexer": "ipython3",
   "version": "3.8.6"
  }
 },
 "nbformat": 4,
 "nbformat_minor": 4
}
